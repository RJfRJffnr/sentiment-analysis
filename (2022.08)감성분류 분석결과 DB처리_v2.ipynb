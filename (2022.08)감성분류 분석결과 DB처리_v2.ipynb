{
 "cells": [
  {
   "cell_type": "code",
   "execution_count": 8,
   "id": "ee5bea1d",
   "metadata": {},
   "outputs": [
    {
     "data": {
      "text/html": [
       "<style>\n",
       "div.container { width:100% !important; }\n",
       "div.CodeMirror {font-family: Consolas; font-size: 16pt;}\n",
       "div.output { font-size: 16pt; font-weight: bold;}\n",
       "div.input { font-family: Consolas; font-size: 16pt;}\n",
       "div.prompt { min-width: 100px;}\n",
       "</style>\n"
      ],
      "text/plain": [
       "<IPython.core.display.HTML object>"
      ]
     },
     "metadata": {},
     "output_type": "display_data"
    }
   ],
   "source": [
    "# PY파일에서는 제거\n",
    "from IPython.core.display import display, HTML\n",
    "display(HTML(\n",
    "\"\"\"<style>\n",
    "div.container { width:100% !important; }\n",
    "div.CodeMirror {font-family: Consolas; font-size: 16pt;}\n",
    "div.output { font-size: 16pt; font-weight: bold;}\n",
    "div.input { font-family: Consolas; font-size: 16pt;}\n",
    "div.prompt { min-width: 100px;}\n",
    "</style>\n",
    "\"\"\"))"
   ]
  },
  {
   "cell_type": "code",
   "execution_count": 9,
   "id": "d2a6dad4",
   "metadata": {},
   "outputs": [],
   "source": [
    "# !pip3 install tensorflow"
   ]
  },
  {
   "cell_type": "code",
   "execution_count": 10,
   "id": "9985fa57",
   "metadata": {},
   "outputs": [],
   "source": [
    "import re\n",
    "import pymysql\n",
    "from konlpy.tag import Okt\n",
    "from tensorflow.keras.preprocessing.text import Tokenizer\n",
    "from tensorflow.keras.preprocessing.sequence import pad_sequences\n",
    "import tensorflow as tf\n",
    "\n",
    "import warnings\n",
    "warnings.filterwarnings(action='ignore')\n",
    "\n",
    "okt = Okt()\n",
    "tokenizer = Tokenizer()"
   ]
  },
  {
   "cell_type": "code",
   "execution_count": 11,
   "id": "be373d37",
   "metadata": {},
   "outputs": [],
   "source": [
    "# 모델 복원\n",
    "loaded_model = tf.keras.models.load_model('best_model.h5')\n",
    "# loaded_model.summary()\n",
    "\n",
    "import pickle\n",
    "#### 중요!!!!!!! Tokenizer object loading\n",
    "with open('tokenizer.pickle', 'rb') as handle:\n",
    "    tokenizer = pickle.load(handle)"
   ]
  },
  {
   "cell_type": "code",
   "execution_count": 12,
   "id": "9929fa8d",
   "metadata": {},
   "outputs": [],
   "source": [
    "max_len = 30\n",
    "stopwords = ['의','가','이','은','들','는','좀','잘','걍','과','도','를','으로','자','에','와','한','하다']\n",
    "\n",
    "DB_HOST = 'localhost'\n",
    "DB_USER = 'pyuser'\n",
    "DB_PASSWD = 'pyuser'\n",
    "DB_NAME = 'pyuser'\n"
   ]
  },
  {
   "cell_type": "code",
   "execution_count": 13,
   "id": "2f5d0cdf",
   "metadata": {},
   "outputs": [
    {
     "name": "stdout",
     "output_type": "stream",
     "text": [
      "전체 실행건수:  110621\n"
     ]
    }
   ],
   "source": [
    "conn = pymysql.connect(host=DB_HOST, user=DB_USER, password=DB_PASSWD,\n",
    "                   db=DB_NAME, charset='utf8')\n",
    "curs = conn.cursor()\n",
    "sql = \"\"\"\n",
    "     select count(*)\n",
    "     from tooncomment_best\n",
    "     where posneg_grade = 'W'\n",
    " \"\"\"\n",
    "curs.execute(sql)\n",
    "table_cnt = curs.fetchall() \n",
    "conn.close()\n",
    "\n",
    "run_cnt = table_cnt[0][0]\n",
    "print('전체 실행건수: ',run_cnt)"
   ]
  },
  {
   "cell_type": "code",
   "execution_count": 15,
   "id": "31e985e5",
   "metadata": {
    "scrolled": true
   },
   "outputs": [
    {
     "name": "stdout",
     "output_type": "stream",
     "text": [
      "1/1 [==============================] - 0s 17ms/step\n",
      "1/1 [==============================] - 0s 15ms/step\n",
      "1/1 [==============================] - 0s 15ms/step\n",
      "1/1 [==============================] - 0s 15ms/step\n",
      "1/1 [==============================] - 0s 15ms/step\n",
      "1/1 [==============================] - 0s 16ms/step\n",
      "1/1 [==============================] - 0s 15ms/step\n",
      "1/1 [==============================] - 0s 17ms/step\n",
      "1/1 [==============================] - 0s 16ms/step\n",
      "1/1 [==============================] - 0s 13ms/step\n",
      "1/1 [==============================] - 0s 13ms/step\n"
     ]
    }
   ],
   "source": [
    "for x in range(0, 10+1, 1):\n",
    "    \n",
    "    conn = pymysql.connect(host=DB_HOST, user=DB_USER, password=DB_PASSWD,\n",
    "                       db=DB_NAME, charset='utf8')\n",
    "    curs = conn.cursor()\n",
    "    sql = \"\"\"\n",
    "         select no, strComments\t \n",
    "         from tooncomment_best\n",
    "         where posneg_grade = 'W'\n",
    "         limit 1;\n",
    "     \"\"\"\n",
    "    curs.execute(sql)\n",
    "    table_data = curs.fetchall() \n",
    "    conn.close()\n",
    "\n",
    "    table_data = [list(table_data[x]) for x in range(len(table_data))]       # tupple을 list형태로 변경\n",
    "    # print( table_data  )     # list \n",
    "    no = table_data[0][0]        # DB에서 한줄을 가져와도 ( (  ,  ) ,     ) 나온다.\n",
    "    content = table_data[0][1]\n",
    "    # print(no)\n",
    "    # print(content)\n",
    "    \n",
    "    \n",
    "    if content is None:   # 가져온 데이터가 Null 일때   \n",
    "        posneg_rate = 0\n",
    "        posneg_grade = 'NaN'\n",
    "    elif len(content) == 0 :   # 이미지들로만 컨텐츠가 구성되어 있을때\n",
    "        posneg_rate = 0\n",
    "        posneg_grade = 'Empty'    \n",
    "    else :    \n",
    "        content = re.sub(r'[^ㄱ-ㅎㅏ-ㅣ가-힣 ]','', content)\n",
    "        # print(content)  # 불필요한 글자들 정리\n",
    "        if len(content) == 0:\n",
    "            posneg_rate = 0\n",
    "            posneg_grade = 'Filter'        \n",
    "        else:\n",
    "            content = okt.morphs(content, stem=True) # 토큰화\n",
    "            content = [word for word in content if not word in stopwords] # 불용어 제거\n",
    "            encoded = tokenizer.texts_to_sequences([content]) # 정수 인코딩\n",
    "            pad_new = pad_sequences(encoded, maxlen = max_len) # 패딩\n",
    "            score = float(loaded_model.predict(pad_new)) # 예측\n",
    "\n",
    "            if(score > 0.5):\n",
    "    #             print(\"{:.2f}% 확률로 긍정 리뷰입니다.\\n\".format(score * 100))\n",
    "                posneg_rate = score * 100\n",
    "                posneg_grade = 'Good'\n",
    "            else:\n",
    "    #             print(\"{:.2f}% 확률로 부정 리뷰입니다.\\n\".format((1 - score) * 100))\n",
    "                posneg_rate = (1 - score) * 100\n",
    "                posneg_grade = 'Bad' \n",
    "\n",
    "    # 데이터 업데이트\n",
    "    conn = pymysql.connect(host=DB_HOST, user=DB_USER, password=DB_PASSWD,\n",
    "                       db=DB_NAME, charset='utf8')\n",
    "    curs = conn.cursor()\n",
    "    sql = \"\"\"\n",
    "         update tooncomment_best\n",
    "         set posneg_rate={posneg_rate}, posneg_grade='{posneg_grade}'\n",
    "         where no = {no}\n",
    "     \"\"\"\n",
    "    sql = sql.format(posneg_rate=posneg_rate, posneg_grade=posneg_grade, no=no )\n",
    "    curs.execute(sql)\n",
    "    conn.commit()\n",
    "    conn.close()\n",
    "\n",
    "#     print('no: ',no,' ','posneg_rate: ',posneg_rate,' ','posneg_grade: ',posneg_grade)\n",
    "\n",
    "    if x % 1000 == 0 and x != 0:   # 1000 개 단위로 출력\n",
    "        print('\\n\\n')\n",
    "        print(x,'건 진행')\n",
    "        print('\\n\\n')"
   ]
  },
  {
   "cell_type": "code",
   "execution_count": null,
   "id": "73b7dc10",
   "metadata": {},
   "outputs": [],
   "source": []
  },
  {
   "cell_type": "code",
   "execution_count": null,
   "id": "da6288e6",
   "metadata": {},
   "outputs": [],
   "source": []
  },
  {
   "cell_type": "code",
   "execution_count": null,
   "id": "2bf0257d",
   "metadata": {},
   "outputs": [],
   "source": []
  }
 ],
 "metadata": {
  "kernelspec": {
   "display_name": "Python 3 (ipykernel)",
   "language": "python",
   "name": "python3"
  },
  "language_info": {
   "codemirror_mode": {
    "name": "ipython",
    "version": 3
   },
   "file_extension": ".py",
   "mimetype": "text/x-python",
   "name": "python",
   "nbconvert_exporter": "python",
   "pygments_lexer": "ipython3",
   "version": "3.9.12"
  }
 },
 "nbformat": 4,
 "nbformat_minor": 5
}
